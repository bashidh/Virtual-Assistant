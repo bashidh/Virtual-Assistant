{
  "nbformat": 4,
  "nbformat_minor": 0,
  "metadata": {
    "colab": {
      "name": "Chatbot using python.ipynb",
      "provenance": [],
      "collapsed_sections": [],
      "authorship_tag": "ABX9TyMHWSojODbEyxRP11+UNL4g",
      "include_colab_link": true
    },
    "kernelspec": {
      "name": "python3",
      "display_name": "Python 3"
    },
    "language_info": {
      "name": "python"
    }
  },
  "cells": [
    {
      "cell_type": "markdown",
      "metadata": {
        "id": "view-in-github",
        "colab_type": "text"
      },
      "source": [
        "<a href=\"https://colab.research.google.com/github/bashidh/Virtual-Assistant/blob/main/Chatbot_using_python.ipynb\" target=\"_parent\"><img src=\"https://colab.research.google.com/assets/colab-badge.svg\" alt=\"Open In Colab\"/></a>"
      ]
    },
    {
      "cell_type": "markdown",
      "metadata": {
        "id": "CWuYtVcgiBI6"
      },
      "source": [
        "##Ai chatbot implementation"
      ]
    },
    {
      "cell_type": "code",
      "metadata": {
        "colab": {
          "base_uri": "https://localhost:8080/"
        },
        "id": "u0Kh9CUqh_5z",
        "outputId": "c55bda4b-b317-45b5-b8d9-20362b65fe4c"
      },
      "source": [
        "pip install chatterbot  #inbuilt library build on ml with conversational dialog flow "
      ],
      "execution_count": null,
      "outputs": [
        {
          "output_type": "stream",
          "text": [
            "Collecting chatterbot\n",
            "  Downloading ChatterBot-1.0.8-py2.py3-none-any.whl (63 kB)\n",
            "\u001b[?25l\r\u001b[K     |█████▏                          | 10 kB 23.2 MB/s eta 0:00:01\r\u001b[K     |██████████▎                     | 20 kB 9.9 MB/s eta 0:00:01\r\u001b[K     |███████████████▌                | 30 kB 7.9 MB/s eta 0:00:01\r\u001b[K     |████████████████████▋           | 40 kB 7.5 MB/s eta 0:00:01\r\u001b[K     |█████████████████████████▊      | 51 kB 4.1 MB/s eta 0:00:01\r\u001b[K     |███████████████████████████████ | 61 kB 4.6 MB/s eta 0:00:01\r\u001b[K     |████████████████████████████████| 63 kB 1.6 MB/s \n",
            "\u001b[?25hRequirement already satisfied: python-dateutil<2.9,>=2.8 in /usr/local/lib/python3.7/dist-packages (from chatterbot) (2.8.1)\n",
            "Collecting sqlalchemy<1.4,>=1.3\n",
            "  Downloading SQLAlchemy-1.3.24-cp37-cp37m-manylinux2010_x86_64.whl (1.3 MB)\n",
            "\u001b[K     |████████████████████████████████| 1.3 MB 9.0 MB/s \n",
            "\u001b[?25hCollecting mathparse<0.2,>=0.1\n",
            "  Downloading mathparse-0.1.2-py3-none-any.whl (7.2 kB)\n",
            "Requirement already satisfied: pytz in /usr/local/lib/python3.7/dist-packages (from chatterbot) (2018.9)\n",
            "Requirement already satisfied: six>=1.5 in /usr/local/lib/python3.7/dist-packages (from python-dateutil<2.9,>=2.8->chatterbot) (1.15.0)\n",
            "Installing collected packages: sqlalchemy, mathparse, chatterbot\n",
            "  Attempting uninstall: sqlalchemy\n",
            "    Found existing installation: SQLAlchemy 1.4.20\n",
            "    Uninstalling SQLAlchemy-1.4.20:\n",
            "      Successfully uninstalled SQLAlchemy-1.4.20\n",
            "Successfully installed chatterbot-1.0.8 mathparse-0.1.2 sqlalchemy-1.3.24\n"
          ],
          "name": "stdout"
        }
      ]
    },
    {
      "cell_type": "code",
      "metadata": {
        "colab": {
          "base_uri": "https://localhost:8080/"
        },
        "id": "2b5l8I34irHh",
        "outputId": "45d8c5d2-a36a-4e11-dd93-732d1811679a"
      },
      "source": [
        "pip install chatterbot_corpus #user contributed dialog used to train the bots to communicate"
      ],
      "execution_count": null,
      "outputs": [
        {
          "output_type": "stream",
          "text": [
            "Collecting chatterbot_corpus\n",
            "  Downloading chatterbot_corpus-1.2.0-py2.py3-none-any.whl (117 kB)\n",
            "\u001b[?25l\r\u001b[K     |██▉                             | 10 kB 22.4 MB/s eta 0:00:01\r\u001b[K     |█████▋                          | 20 kB 9.7 MB/s eta 0:00:01\r\u001b[K     |████████▍                       | 30 kB 8.1 MB/s eta 0:00:01\r\u001b[K     |███████████▏                    | 40 kB 7.6 MB/s eta 0:00:01\r\u001b[K     |██████████████                  | 51 kB 4.0 MB/s eta 0:00:01\r\u001b[K     |████████████████▊               | 61 kB 4.2 MB/s eta 0:00:01\r\u001b[K     |███████████████████▋            | 71 kB 4.7 MB/s eta 0:00:01\r\u001b[K     |██████████████████████▍         | 81 kB 5.1 MB/s eta 0:00:01\r\u001b[K     |█████████████████████████▏      | 92 kB 5.1 MB/s eta 0:00:01\r\u001b[K     |████████████████████████████    | 102 kB 4.2 MB/s eta 0:00:01\r\u001b[K     |██████████████████████████████▊ | 112 kB 4.2 MB/s eta 0:00:01\r\u001b[K     |████████████████████████████████| 117 kB 4.2 MB/s \n",
            "\u001b[?25hRequirement already satisfied: PyYAML<4.0,>=3.12 in /usr/local/lib/python3.7/dist-packages (from chatterbot_corpus) (3.13)\n",
            "Installing collected packages: chatterbot-corpus\n",
            "Successfully installed chatterbot-corpus-1.2.0\n"
          ],
          "name": "stdout"
        }
      ]
    },
    {
      "cell_type": "code",
      "metadata": {
        "id": "WLjTDrcklowb"
      },
      "source": [
        "#function to create bot\n",
        "def create_bot(name):\n",
        "  from chatterbot import ChatBot#\n",
        "  Bot=ChatBot(name=name,read_only=False,                                 #read_only false-bot gets user input    \n",
        "              logic_adapters=[\"chatterbot.logic.BestMatch\"],             #logic_adapters-choose bestmatched logic and  give response to the user ip\n",
        "              storage_adapters=[\"chatterbot.storage.SQlStorageAdapter\"]) #storage_adapter-interface used to connect the bot to different storage technologies\n",
        "  return Bot\n",
        "\n",
        "\n",
        "#function to train lists\n",
        "def custom_train(Bot,conversation):\n",
        "  from chatterbot.trainers import ListTrainer     #lists the training datas\n",
        "  trainer=ListTrainer(Bot)                        \n",
        "  trainer.train(conversation)                      #train()use to train conversations in list\n",
        "\n",
        "#function to train variety of topics\n",
        "def train_all_data(Bot):\n",
        "  from chatterbot.trainers import ChatterBotCorpusTrainer    #train our bot with some data trainer\n",
        "  corpus_trainer=ChatterBotCorpusTrainer(Bot)\n",
        "  corpus_trainer.train(\"chatterbot.corpus.english\")         #train in english lanuage,we can choose other  languages also\n",
        "\n",
        "#function to start bot\n",
        "def start_bot(Bot):\n",
        "  print(\"Hi there!,i'm Ab.How can i help you?\")\n",
        "  bye_list=[\"bye ab\",\"bye\",\"ok see you tommorow\",\"good bye\"]     #training list\n",
        "\n",
        "  while(True):\n",
        "    user_input=input(\"me: \")\n",
        "    if user_input in bye_list:\n",
        "     # print(\"\\033c\")\n",
        "      print(\"Ab: Ok bye! see you, have a nice day\")\n",
        "      break\n",
        "   \n",
        "\n",
        "    response=Bot.get_response(user_input)                     #passing user_input and get response from bot\n",
        "    print(\"Ab: \",response)"
      ],
      "execution_count": 3,
      "outputs": []
    },
    {
      "cell_type": "code",
      "metadata": {
        "colab": {
          "base_uri": "https://localhost:8080/"
        },
        "id": "bNBp5rbawJhd",
        "outputId": "43213a74-26d9-4f4b-df7b-a1a456488b87"
      },
      "source": [
        "pip install function"
      ],
      "execution_count": null,
      "outputs": [
        {
          "output_type": "stream",
          "text": [
            "Collecting function\n",
            "  Downloading function-1.2.0.tar.gz (766 bytes)\n",
            "Building wheels for collected packages: function\n",
            "  Building wheel for function (setup.py) ... \u001b[?25l\u001b[?25hdone\n",
            "  Created wheel for function: filename=function-1.2.0-py3-none-any.whl size=1463 sha256=080a12f301260d9ed0708d6f752a6f05c7eec88a2b2ca0b06545e07db70491f9\n",
            "  Stored in directory: /root/.cache/pip/wheels/97/ac/86/0db3a8b76385994e22ec07808657e3584de609026808a32ca6\n",
            "Successfully built function\n",
            "Installing collected packages: function\n",
            "Successfully installed function-1.2.0\n"
          ],
          "name": "stdout"
        }
      ]
    },
    {
      "cell_type": "code",
      "metadata": {
        "id": "F7fS1rO4wQ0O",
        "colab": {
          "base_uri": "https://localhost:8080/"
        },
        "outputId": "2cf80435-e6c4-4a1b-f84f-50836c4c6e08"
      },
      "source": [
        "#create bot \n",
        "bot=create_bot(\"Ab\")\n",
        "\n",
        "#custom_train\n",
        "id=input(\"State your identity please! \")\n",
        "if id==\"abdul\":\n",
        "  print(\"Welcome abdul. Happy to have you at home!\")\n",
        "elif id==\"bashidh\":\n",
        "  print(\"Welcome bashidh. Happy to have you at home!\")\n",
        "else:\n",
        "  print(\"sorry!your access is denied,bye\")\n",
        "  exit()\n",
        "\n",
        "\n",
        "creater=[\"who is your creater?\",\"M.Abdul Bashidh\"]\n",
        "food=[\"what is  fav food\",\"your fav food is  briyani\"]\n",
        "liv=[\"where is my college\",'your college is in dgl']\n",
        "custom_train(bot,creater)\n",
        "custom_train(bot,food)\n",
        "custom_train(bot,liv)\n",
        "\n",
        "#train_bot\n",
        "train_all_data(bot)\n",
        "\n",
        "#start bot\n",
        "start_bot(bot)"
      ],
      "execution_count": 2,
      "outputs": [
        {
          "output_type": "stream",
          "text": [
            "State your identity please! abdul\n",
            "Welcome abdul. Happy to have you at home!\n",
            "List Trainer: [####################] 100%\n",
            "List Trainer: [####################] 100%\n",
            "List Trainer: [####################] 100%\n",
            "Training ai.yml: [####################] 100%\n",
            "Training botprofile.yml: [####################] 100%\n",
            "Training computers.yml: [####################] 100%\n",
            "Training conversations.yml: [####################] 100%\n",
            "Training emotion.yml: [####################] 100%\n",
            "Training food.yml: [####################] 100%\n",
            "Training gossip.yml: [####################] 100%\n",
            "Training greetings.yml: [####################] 100%\n",
            "Training health.yml: [####################] 100%\n",
            "Training history.yml: [####################] 100%\n",
            "Training humor.yml: [####################] 100%\n",
            "Training literature.yml: [####################] 100%\n",
            "Training money.yml: [####################] 100%\n",
            "Training movies.yml: [####################] 100%\n",
            "Training politics.yml: [####################] 100%\n",
            "Training psychology.yml: [####################] 100%\n",
            "Training science.yml: [####################] 100%\n",
            "Training sports.yml: [####################] 100%\n",
            "Training trivia.yml: [####################] 100%\n",
            "Hi there!,i'm Ab.How can i help you?\n",
            "me: where is my college\n",
            "Ab:  your college is in dgl\n",
            "me: what is fav food\n",
            "Ab:  your fav food is briyani\n",
            "me: who are you\n",
            "i'm Ab \n",
            "Ab:  I am just an artificial intelligence.\n",
            "me: who are you\n",
            "i'm Ab \n",
            "Ab:  I am just an artificial intelligence.\n",
            "me: bye\n",
            "Ab: Ok bye! see you, have a nice day\n"
          ],
          "name": "stdout"
        }
      ]
    }
  ]
}